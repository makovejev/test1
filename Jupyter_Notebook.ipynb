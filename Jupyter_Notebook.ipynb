{
 "cells": [
  {
   "cell_type": "markdown",
   "metadata": {},
   "source": [
    "<center>\n",
    "    <img src=\"https://cf-courses-data.s3.us.cloud-object-storage.appdomain.cloud/IBMDeveloperSkillsNetwork-DS0105EN-SkillsNetwork/labs/Module2/images/SN_web_lightmode.png\" width=\"300\" alt=\"cognitiveclass.ai logo\"  />\n",
    "</center>\n"
   ]
  },
  {
   "cell_type": "markdown",
   "metadata": {
    "tags": []
   },
   "source": [
    "# My Jupyter Notebook on IBM Watson Studio"
   ]
  },
  {
   "cell_type": "markdown",
   "metadata": {},
   "source": [
    "**Sergej Makovejev** <br>\n",
    "Data analyst"
   ]
  },
  {
   "cell_type": "markdown",
   "metadata": {},
   "source": [
    "*I am interested in data science because it provides answers to business questions. It translates seemingly unconnected information into actions.*"
   ]
  },
  {
   "cell_type": "markdown",
   "metadata": {},
   "source": [
    "### The code in the cell below prints a value of pi"
   ]
  },
  {
   "cell_type": "code",
   "execution_count": 2,
   "metadata": {},
   "outputs": [
    {
     "name": "stdout",
     "output_type": "stream",
     "text": [
      "3.141592653589793\n"
     ]
    }
   ],
   "source": [
    "import numpy as np\n",
    "print(np.pi)"
   ]
  },
  {
   "cell_type": "markdown",
   "metadata": {},
   "source": [
    "<ul>\n",
    "<li>this</li>\n",
    "<li>is</li>\n",
    "<li>a</li>\n",
    "<li>bulleted</li>\n",
    "<li>list</li>\n",
    "</ul>\n",
    "\n",
    "<ol>\n",
    "<li>this</li>\n",
    "<li>is</li>\n",
    "<li>a</li>\n",
    "<li>numbered</li>\n",
    "<li>list</li>\n",
    "</ol>\n",
    "\n",
    "<table>\n",
    "<tr>\n",
    "<th>Col1</th>\n",
    "<th>Col2</th>\n",
    "<th>Col3</th>\n",
    "</tr>\n",
    "\n",
    "<tr>\n",
    "<td>value1</td>\n",
    "<td>value2</td>\n",
    "<td>value3</td>\n",
    "</tr>\n",
    "\n",
    "<tr>\n",
    "<td>value4</td>\n",
    "<td>value5</td>\n",
    "<td>value6</td>\n",
    "</tr>\n",
    "</table>\n"
   ]
  }
 ],
 "metadata": {
  "kernelspec": {
   "display_name": "Python",
   "language": "python",
   "name": "conda-env-python-py"
  },
  "language_info": {
   "codemirror_mode": {
    "name": "ipython",
    "version": 3
   },
   "file_extension": ".py",
   "mimetype": "text/x-python",
   "name": "python",
   "nbconvert_exporter": "python",
   "pygments_lexer": "ipython3",
   "version": "3.7.12"
  }
 },
 "nbformat": 4,
 "nbformat_minor": 4
}
